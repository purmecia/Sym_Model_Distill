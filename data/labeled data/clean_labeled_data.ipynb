{
 "cells": [
  {
   "cell_type": "code",
   "execution_count": 11,
   "metadata": {},
   "outputs": [],
   "source": [
    "import json\n",
    "import pandas as pd   \n",
    "import numpy as np\n",
    "from random import sample\n",
    "from tqdm import tqdm,trange\n",
    "import csv\n",
    "\n",
    "data_path_500=\"./500_labeled_clean.tsv\"\n",
    "data_path_4000=\"./output_4000_DT.tsv\""
   ]
  },
  {
   "cell_type": "code",
   "execution_count": 32,
   "metadata": {},
   "outputs": [],
   "source": [
    "with open(data_path_500,encoding=\"utf-8\") as f:\n",
    "  data_500 = list(csv.reader(f, delimiter=\"\\t\"))\n",
    "data_500=[line[1:] for line in data_500]\n",
    "with open(data_path_4000,encoding=\"utf-8\") as f:\n",
    "  data_4000 = list(csv.reader(f, delimiter=\"\\t\"))\n",
    "data_4000=data_4000[:2999]\n",
    "data_4000_changelabel=[line[:-1]+['yes' if line[-1]=='1' else 'no'] for line in data_4000]"
   ]
  },
  {
   "cell_type": "code",
   "execution_count": 35,
   "metadata": {},
   "outputs": [],
   "source": [
    "data_all=data_500.copy()\n",
    "data_all.extend(data_4000_changelabel)"
   ]
  },
  {
   "cell_type": "code",
   "execution_count": 41,
   "metadata": {},
   "outputs": [],
   "source": [
    "with open(r'./critic_labeled_data_4000', 'w', newline='',encoding='utf-8') as f:\n",
    "    tsv_w = csv.writer(f, delimiter='\\t')\n",
    "    for line in data_4000_changelabel:\n",
    "        tsv_w.writerow(line)  \n"
   ]
  }
 ],
 "metadata": {
  "kernelspec": {
   "display_name": "Python 3.8.15 ('CS671d')",
   "language": "python",
   "name": "python3"
  },
  "language_info": {
   "codemirror_mode": {
    "name": "ipython",
    "version": 3
   },
   "file_extension": ".py",
   "mimetype": "text/x-python",
   "name": "python",
   "nbconvert_exporter": "python",
   "pygments_lexer": "ipython3",
   "version": "3.8.15"
  },
  "orig_nbformat": 4,
  "vscode": {
   "interpreter": {
    "hash": "6bf51136e80cc8d537998c634373721f3535c87741d7026eb4e9b38a6b970557"
   }
  }
 },
 "nbformat": 4,
 "nbformat_minor": 2
}
