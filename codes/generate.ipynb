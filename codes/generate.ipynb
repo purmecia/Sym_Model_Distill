{
 "cells": [
  {
   "cell_type": "code",
   "execution_count": 11,
   "metadata": {},
   "outputs": [],
   "source": [
    "import json\n",
    "import pandas as pd   \n",
    "import numpy as np\n",
    "import csv\n",
    "from random import sample\n",
    "from tqdm import tqdm\n",
    "from sklearn.model_selection import train_test_split\n",
    "data_addr=r\"C:\\Files\\Documents\\2022 Fall\\CS572 NLP\\project\\codes\\dataset\\symbolic-knowledge-distillation_1.0\\symbolic-knowledge-distillation_1.0\\data_and_models_1.0\\ATOMIC10X.jsonl\"\n",
    "\n",
    "    "
   ]
  },
  {
   "cell_type": "code",
   "execution_count": 4,
   "metadata": {},
   "outputs": [],
   "source": [
    "with open(data_addr) as f:\n",
    "    data=[json.loads(jline) for jline in f.read().splitlines()]\n"
   ]
  },
  {
   "cell_type": "code",
   "execution_count": 8,
   "metadata": {},
   "outputs": [
    {
     "data": {
      "text/plain": [
       "{'head': 'PersonX decides to see a therapist',\n",
       " 'relation': 'xEffect',\n",
       " 'tail': 'feels better',\n",
       " 'split': 'train',\n",
       " 'rec_0.6': True,\n",
       " 'rec_0.9': True,\n",
       " 'rec_0.5': True,\n",
       " 'rec_0.7': True,\n",
       " 'rec_0.8': True,\n",
       " 'p_valid_model': 0.9934503436088562}"
      ]
     },
     "execution_count": 8,
     "metadata": {},
     "output_type": "execute_result"
    }
   ],
   "source": [
    "data[0]"
   ]
  },
  {
   "cell_type": "code",
   "execution_count": 17,
   "metadata": {},
   "outputs": [
    {
     "data": {
      "text/plain": [
       "6456300"
      ]
     },
     "execution_count": 17,
     "metadata": {},
     "output_type": "execute_result"
    }
   ],
   "source": [
    "len(data)"
   ]
  },
  {
   "cell_type": "code",
   "execution_count": 13,
   "metadata": {},
   "outputs": [
    {
     "name": "stdout",
     "output_type": "stream",
     "text": [
      "{'head': 'PersonX decides to see a therapist', 'relation': 'xEffect', 'tail': 'feels better'}\n"
     ]
    }
   ],
   "source": [
    "print(data_tmp)"
   ]
  },
  {
   "cell_type": "code",
   "execution_count": 5,
   "metadata": {},
   "outputs": [],
   "source": [
    "data_selcet=[]\n",
    "for data_line in data:\n",
    "    if data_line['rec_0.5']==True:\n",
    "        data_selcet.append({'head':data_line['head'],'relation':data_line['relation'],'tail':data_line['tail']})"
   ]
  },
  {
   "cell_type": "code",
   "execution_count": 7,
   "metadata": {},
   "outputs": [
    {
     "data": {
      "text/plain": [
       "2512720"
      ]
     },
     "execution_count": 7,
     "metadata": {},
     "output_type": "execute_result"
    }
   ],
   "source": [
    "len(data_selcet)"
   ]
  },
  {
   "cell_type": "code",
   "execution_count": 9,
   "metadata": {},
   "outputs": [],
   "source": [
    "set_event_relation=set()\n",
    "for line in data_selcet:\n",
    "    set_event_relation.add((line['head'],line['relation']) )"
   ]
  },
  {
   "cell_type": "code",
   "execution_count": 14,
   "metadata": {},
   "outputs": [],
   "source": [
    "list_event_relation=list(set_event_relation)\n",
    "test_event_relation=sample(list_event_relation,1000)\n",
    "set_test_event_relation={line[0] for line in test_event_relation}\n",
    "set_event_relation_new=set()\n",
    "for line in set_event_relation:\n",
    "    if line[0] in set_test_event_relation:\n",
    "        set_event_relation_new.add((line[0],line[1]) )"
   ]
  },
  {
   "cell_type": "code",
   "execution_count": 16,
   "metadata": {},
   "outputs": [],
   "source": [
    "test_event_relation_save=sample(list(set_event_relation_new),4000)"
   ]
  },
  {
   "cell_type": "code",
   "execution_count": 17,
   "metadata": {},
   "outputs": [],
   "source": [
    "with open(r'test_repeat_4000.tsv', 'w', newline='',encoding='utf-8') as f:\n",
    "    tsv_w = csv.writer(f, delimiter='\\t')\n",
    "    for i in range(len(test_event_relation_save)):\n",
    "        inp_text = \"{}  {}  [GEN]\".format(test_event_relation_save[i][0],test_event_relation_save[i][1])\n",
    "        tsv_w.writerow([inp_text])  "
   ]
  },
  {
   "cell_type": "code",
   "execution_count": 18,
   "metadata": {},
   "outputs": [
    {
     "data": {
      "text/plain": [
       "999"
      ]
     },
     "execution_count": 18,
     "metadata": {},
     "output_type": "execute_result"
    }
   ],
   "source": [
    "len(set_test_event_relation)"
   ]
  },
  {
   "cell_type": "code",
   "execution_count": null,
   "metadata": {},
   "outputs": [],
   "source": [
    "train_input=[]\n",
    "train_output=[]\n",
    "for line in tqdm(data_selcet):\n",
    "    if line[1] in relation_list and line['head'] not in set_test_event_relation:\n",
    "        inp_text = \"{}  {}  [GEN]\".format(line[0].strip(),line[1])\n",
    "        train_input.append(inp_text)\n",
    "        train_output.append(line[2])  "
   ]
  },
  {
   "cell_type": "code",
   "execution_count": 5,
   "metadata": {},
   "outputs": [],
   "source": [
    "data_selcet_input=[]\n",
    "data_selcet_output=[]\n",
    "\n",
    "for data_line in data_selcet:\n",
    "    inp_text = \"{}  {}  [GEN]\".format(data_line['head'].strip(),data_line['relation'])\n",
    "    data_selcet_input.append(inp_text)\n",
    "    data_selcet_output.append(data_line['tail'])"
   ]
  },
  {
   "cell_type": "code",
   "execution_count": 25,
   "metadata": {},
   "outputs": [
    {
     "data": {
      "text/plain": [
       "'feels better'"
      ]
     },
     "execution_count": 25,
     "metadata": {},
     "output_type": "execute_result"
    }
   ],
   "source": [
    "data_selcet_output[0]"
   ]
  },
  {
   "cell_type": "code",
   "execution_count": 6,
   "metadata": {},
   "outputs": [],
   "source": [
    "X_train, X_rem, y_train, y_rem = train_test_split(data_selcet_input,data_selcet_output, train_size=0.9)\n",
    "\n",
    "X_valid, X_test, y_valid, y_test = train_test_split(X_rem,y_rem, test_size=0.5)"
   ]
  },
  {
   "cell_type": "code",
   "execution_count": 7,
   "metadata": {},
   "outputs": [
    {
     "name": "stdout",
     "output_type": "stream",
     "text": [
      "Alice decides to see a therapist\n"
     ]
    }
   ],
   "source": [
    "tmp='PersonX decides to see a therapist'\n",
    "print(tmp.replace('PersonX','Alice'))"
   ]
  },
  {
   "cell_type": "code",
   "execution_count": 22,
   "metadata": {},
   "outputs": [],
   "source": [
    "inp_text = \"{}  {}  [GEN]\".format(data_selcet[0]['head'].strip(),data_selcet[0]['relation'])"
   ]
  },
  {
   "cell_type": "code",
   "execution_count": 23,
   "metadata": {},
   "outputs": [
    {
     "name": "stdout",
     "output_type": "stream",
     "text": [
      "PersonX decides to see a therapist  xEffect  [GEN]\n"
     ]
    }
   ],
   "source": [
    "print(inp_text)"
   ]
  },
  {
   "cell_type": "code",
   "execution_count": 12,
   "metadata": {},
   "outputs": [],
   "source": [
    "def name_PX_PY(s):\n",
    "    return s.replace('PersonX', 'Alice').replace('PersonY', 'Bob')"
   ]
  },
  {
   "cell_type": "code",
   "execution_count": 15,
   "metadata": {},
   "outputs": [],
   "source": [
    "def changerealation(s):\n",
    "    return s.replace('xAttr','so, PersonX is seen as').\\\n",
    "        replace('HinderedBy','can be hindered by').\\\n",
    "        replace('xNeed','but before, PersonX needed').\\\n",
    "        replace('xWant','as a result, PersonX wants').\\\n",
    "        replace('xIntent','because PersonX wanted').\\\n",
    "        replace('xReact','as a result, PersonX feels').\\\n",
    "        replace('xEffect','as a result, PersonX')  "
   ]
  },
  {
   "cell_type": "code",
   "execution_count": 13,
   "metadata": {},
   "outputs": [],
   "source": [
    "\n",
    "with open(r'select_data_test.tsv', 'w', newline='',encoding='utf-8') as f:\n",
    "    tsv_w = csv.writer(f, delimiter='\\t')\n",
    "    for i in range(len(X_test)):\n",
    "        tsv_w.writerow([X_test[i],y_test[i]])  \n",
    "with open(r'select_data_train.tsv', 'w', newline='',encoding='utf-8') as f:\n",
    "    tsv_w = csv.writer(f, delimiter='\\t')\n",
    "    for i in range(len(X_train)):\n",
    "        tsv_w.writerow([X_train[i],y_train[i]])  \n",
    "with open(r'select_data_val.tsv', 'w', newline='',encoding='utf-8') as f:\n",
    "    tsv_w = csv.writer(f, delimiter='\\t')\n",
    "    for i in range(len(X_valid)):\n",
    "        tsv_w.writerow([X_valid[i],y_valid[i]])  "
   ]
  },
  {
   "cell_type": "code",
   "execution_count": 14,
   "metadata": {},
   "outputs": [],
   "source": [
    "with open(r'select_data_test_changename.tsv', 'w', newline='',encoding='utf-8') as f:\n",
    "    tsv_w = csv.writer(f, delimiter='\\t')\n",
    "    for i in range(len(X_test)):\n",
    "        tsv_w.writerow([name_PX_PY(X_test[i]),name_PX_PY(y_test[i])])  \n",
    "with open(r'select_data_train_changename.tsv', 'w', newline='',encoding='utf-8') as f:\n",
    "    tsv_w = csv.writer(f, delimiter='\\t')\n",
    "    for i in range(len(X_train)):\n",
    "        tsv_w.writerow([name_PX_PY(X_train[i]),name_PX_PY(y_train[i])])  \n",
    "with open(r'select_data_val_changename.tsv', 'w', newline='',encoding='utf-8') as f:\n",
    "    tsv_w = csv.writer(f, delimiter='\\t')\n",
    "    for i in range(len(X_valid)):\n",
    "        tsv_w.writerow([name_PX_PY(X_valid[i]),name_PX_PY(y_valid[i])])  "
   ]
  },
  {
   "cell_type": "code",
   "execution_count": 16,
   "metadata": {},
   "outputs": [],
   "source": [
    "with open(r'select_data_test_changerelation.tsv', 'w', newline='',encoding='utf-8') as f:\n",
    "    tsv_w = csv.writer(f, delimiter='\\t')\n",
    "    for i in range(len(X_test)):\n",
    "        tsv_w.writerow([changerealation(X_test[i]),changerealation(y_test[i])])  \n",
    "with open(r'select_data_train_changerelation.tsv', 'w', newline='',encoding='utf-8') as f:\n",
    "    tsv_w = csv.writer(f, delimiter='\\t')\n",
    "    for i in range(len(X_train)):\n",
    "        tsv_w.writerow([changerealation(X_train[i]),changerealation(y_train[i])])  \n",
    "with open(r'select_data_val_changerelation.tsv', 'w', newline='',encoding='utf-8') as f:\n",
    "    tsv_w = csv.writer(f, delimiter='\\t')\n",
    "    for i in range(len(X_valid)):\n",
    "        tsv_w.writerow([changerealation(X_valid[i]),changerealation(y_valid[i])])  "
   ]
  }
 ],
 "metadata": {
  "kernelspec": {
   "display_name": "Python 3.8.15 ('CS671d')",
   "language": "python",
   "name": "python3"
  },
  "language_info": {
   "codemirror_mode": {
    "name": "ipython",
    "version": 3
   },
   "file_extension": ".py",
   "mimetype": "text/x-python",
   "name": "python",
   "nbconvert_exporter": "python",
   "pygments_lexer": "ipython3",
   "version": "3.8.15"
  },
  "orig_nbformat": 4,
  "vscode": {
   "interpreter": {
    "hash": "6bf51136e80cc8d537998c634373721f3535c87741d7026eb4e9b38a6b970557"
   }
  }
 },
 "nbformat": 4,
 "nbformat_minor": 2
}
