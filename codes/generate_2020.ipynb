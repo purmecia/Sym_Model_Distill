{
 "cells": [
  {
   "cell_type": "code",
   "execution_count": 49,
   "metadata": {},
   "outputs": [],
   "source": [
    "import json\n",
    "import pandas as pd   \n",
    "import numpy as np\n",
    "from random import sample\n",
    "from tqdm import tqdm,trange\n",
    "import csv\n",
    "# from sklearn.model_selection import train_test_split\n",
    "train_data_addr=r\"C:\\Files\\Documents\\2022 Fall\\CS572 NLP\\project\\codes\\dataset\\atomic2020_data-feb2021\\train.tsv\"\n",
    "val_data_addr=r\"C:\\Files\\Documents\\2022 Fall\\CS572 NLP\\project\\codes\\dataset\\atomic2020_data-feb2021\\dev.tsv\"\n",
    "test_data_addr=r\"C:\\Files\\Documents\\2022 Fall\\CS572 NLP\\project\\codes\\dataset\\atomic2020_data-feb2021\\test.tsv\"\n",
    "\n",
    "with open(train_data_addr,encoding=\"utf-8\") as f:\n",
    "  train = list(csv.reader(f, delimiter=\"\\t\"))\n",
    "with open(val_data_addr,encoding=\"utf-8\") as f:\n",
    "  test = list(csv.reader(f, delimiter=\"\\t\"))\n",
    "with open(test_data_addr,encoding=\"utf-8\") as f:\n",
    "  val = list(csv.reader(f, delimiter=\"\\t\"))"
   ]
  },
  {
   "cell_type": "code",
   "execution_count": 7,
   "metadata": {},
   "outputs": [],
   "source": [
    "def name_PX_PY(s):\n",
    "    return s.replace('PersonX', 'Alice').replace('PersonY', 'Bob')"
   ]
  },
  {
   "cell_type": "code",
   "execution_count": 8,
   "metadata": {},
   "outputs": [],
   "source": [
    "def changerealation(s):\n",
    "    return s.replace('xAttr','so, PersonX is seen as').\\\n",
    "        replace('HinderedBy','can be hindered by').\\\n",
    "        replace('xNeed','but before, PersonX needed').\\\n",
    "        replace('xWant','as a result, PersonX wants').\\\n",
    "        replace('xIntent','because PersonX wanted').\\\n",
    "        replace('xReact','as a result, PersonX feels').\\\n",
    "        replace('xEffect','as a result, PersonX')  "
   ]
  },
  {
   "cell_type": "code",
   "execution_count": 9,
   "metadata": {},
   "outputs": [],
   "source": [
    "relation_list=['xAttr','HinderedBy','xNeed','xWant','xIntent','xReact','xEffect']"
   ]
  },
  {
   "cell_type": "code",
   "execution_count": 9,
   "metadata": {},
   "outputs": [],
   "source": [
    "train_input=[]\n",
    "train_output=[]\n",
    "for line in train:\n",
    "    if line[1] in relation_list:\n",
    "        inp_text = \"{}  {}  [GEN]\".format(line[0].strip(),line[1])\n",
    "        train_input.append(inp_text)\n",
    "        train_output.append(line[2])        "
   ]
  },
  {
   "cell_type": "code",
   "execution_count": 12,
   "metadata": {},
   "outputs": [],
   "source": [
    "val_input=[]\n",
    "val_output=[]\n",
    "for line in val:\n",
    "    if line[1] in relation_list:\n",
    "        inp_text = \"{}  {}  [GEN]\".format(line[0].strip(),line[1])\n",
    "        val_input.append(inp_text)\n",
    "        val_output.append(line[2])        "
   ]
  },
  {
   "cell_type": "code",
   "execution_count": 13,
   "metadata": {},
   "outputs": [],
   "source": [
    "test_input=[]\n",
    "test_output=[]\n",
    "for line in test:\n",
    "    if line[1] in relation_list:\n",
    "        inp_text = \"{}  {}  [GEN]\".format(line[0].strip(),line[1])\n",
    "        test_input.append(inp_text)\n",
    "        test_output.append(line[2])        "
   ]
  },
  {
   "cell_type": "code",
   "execution_count": 17,
   "metadata": {},
   "outputs": [
    {
     "data": {
      "text/plain": [
       "'avoidant'"
      ]
     },
     "execution_count": 17,
     "metadata": {},
     "output_type": "execute_result"
    }
   ],
   "source": [
    "test_output[0]"
   ]
  },
  {
   "cell_type": "code",
   "execution_count": 19,
   "metadata": {},
   "outputs": [],
   "source": [
    "with open(r'2020data_test.tsv', 'w', newline='',encoding='utf-8') as f:\n",
    "    tsv_w = csv.writer(f, delimiter='\\t')\n",
    "    for i in range(len(test_input)):\n",
    "        tsv_w.writerow([test_input[i],test_output[i]])  \n",
    "with open(r'2020data_train.tsv', 'w', newline='',encoding='utf-8') as f:\n",
    "    tsv_w = csv.writer(f, delimiter='\\t')\n",
    "    for i in range(len(train_input)):\n",
    "        tsv_w.writerow([train_input[i],train_output[i]])  \n",
    "with open(r'2020data_val.tsv', 'w', newline='',encoding='utf-8') as f:\n",
    "    tsv_w = csv.writer(f, delimiter='\\t')\n",
    "    for i in range(len(val_input)):\n",
    "        tsv_w.writerow([val_input[i],val_output[i]])  "
   ]
  },
  {
   "cell_type": "code",
   "execution_count": 50,
   "metadata": {},
   "outputs": [],
   "source": [
    "whole_dataset=train+test+val"
   ]
  },
  {
   "cell_type": "code",
   "execution_count": null,
   "metadata": {},
   "outputs": [],
   "source": []
  },
  {
   "cell_type": "code",
   "execution_count": 51,
   "metadata": {},
   "outputs": [],
   "source": [
    "whole_dataset_clean=[]\n",
    "for line in whole_dataset:\n",
    "    if line[1] in relation_list:\n",
    "        whole_dataset_clean.append(line)"
   ]
  },
  {
   "cell_type": "code",
   "execution_count": 52,
   "metadata": {},
   "outputs": [
    {
     "data": {
      "text/plain": [
       "788365"
      ]
     },
     "execution_count": 52,
     "metadata": {},
     "output_type": "execute_result"
    }
   ],
   "source": [
    "len(whole_dataset_clean)"
   ]
  },
  {
   "cell_type": "code",
   "execution_count": 53,
   "metadata": {},
   "outputs": [],
   "source": [
    "# set_event_relation={(line[0],line[1]) if line[1] in relation_list for line in whole_dataset}\n",
    "set_event_relation=set()\n",
    "for line in whole_dataset_clean:\n",
    "    set_event_relation.add((line[0],line[1]) )"
   ]
  },
  {
   "cell_type": "code",
   "execution_count": 54,
   "metadata": {},
   "outputs": [
    {
     "data": {
      "text/plain": [
       "166418"
      ]
     },
     "execution_count": 54,
     "metadata": {},
     "output_type": "execute_result"
    }
   ],
   "source": [
    "len(list(set_event_relation))"
   ]
  },
  {
   "cell_type": "code",
   "execution_count": 55,
   "metadata": {},
   "outputs": [],
   "source": [
    "list_event_relation=list(set_event_relation)"
   ]
  },
  {
   "cell_type": "code",
   "execution_count": 56,
   "metadata": {},
   "outputs": [],
   "source": [
    "test_event_relation=sample(list_event_relation,1000)"
   ]
  },
  {
   "cell_type": "code",
   "execution_count": 57,
   "metadata": {},
   "outputs": [],
   "source": [
    "set_test_event_relation={line[0] for line in test_event_relation}"
   ]
  },
  {
   "cell_type": "code",
   "execution_count": 60,
   "metadata": {},
   "outputs": [],
   "source": [
    "set_event_relation_new=set()\n",
    "for line in whole_dataset:\n",
    "    if line[0] in set_test_event_relation:\n",
    "        set_event_relation_new.add((line[0],line[1]) )"
   ]
  },
  {
   "cell_type": "code",
   "execution_count": 61,
   "metadata": {},
   "outputs": [
    {
     "data": {
      "text/plain": [
       "10742"
      ]
     },
     "execution_count": 61,
     "metadata": {},
     "output_type": "execute_result"
    }
   ],
   "source": [
    "len(set_event_relation_new)"
   ]
  },
  {
   "cell_type": "code",
   "execution_count": 62,
   "metadata": {},
   "outputs": [],
   "source": [
    "test_event_relation_save=sample(list(set_event_relation_new),4000)"
   ]
  },
  {
   "cell_type": "code",
   "execution_count": 63,
   "metadata": {},
   "outputs": [],
   "source": [
    "with open(r'test_repeat_4000.tsv', 'w', newline='',encoding='utf-8') as f:\n",
    "    tsv_w = csv.writer(f, delimiter='\\t')\n",
    "    for i in range(len(test_event_relation_save)):\n",
    "        inp_text = \"{}  {}  [GEN]\".format(test_event_relation_save[i][0],test_event_relation_save[i][1])\n",
    "        tsv_w.writerow([inp_text])  "
   ]
  },
  {
   "cell_type": "code",
   "execution_count": 26,
   "metadata": {},
   "outputs": [],
   "source": [
    "\n",
    "set_test_event_relation={line[0] for line in test_event_relation}"
   ]
  },
  {
   "cell_type": "code",
   "execution_count": 45,
   "metadata": {},
   "outputs": [
    {
     "name": "stderr",
     "output_type": "stream",
     "text": [
      "100%|██████████| 1331113/1331113 [00:03<00:00, 414588.57it/s]\n"
     ]
    }
   ],
   "source": [
    "train_input=[]\n",
    "train_output=[]\n",
    "for line in tqdm(whole_dataset):\n",
    "    if line[1] in relation_list and line[0] not in set_test_event_relation:\n",
    "        inp_text = \"{}  {}  [GEN]\".format(line[0].strip(),line[1])\n",
    "        train_input.append(inp_text)\n",
    "        train_output.append(line[2])        "
   ]
  },
  {
   "cell_type": "code",
   "execution_count": 47,
   "metadata": {},
   "outputs": [
    {
     "data": {
      "text/plain": [
       "985"
      ]
     },
     "execution_count": 47,
     "metadata": {},
     "output_type": "execute_result"
    }
   ],
   "source": [
    "len(set_test_event_relation)"
   ]
  },
  {
   "cell_type": "code",
   "execution_count": 48,
   "metadata": {},
   "outputs": [
    {
     "data": {
      "text/plain": [
       "757700"
      ]
     },
     "execution_count": 48,
     "metadata": {},
     "output_type": "execute_result"
    }
   ],
   "source": [
    "len(train_input)"
   ]
  },
  {
   "cell_type": "code",
   "execution_count": 46,
   "metadata": {},
   "outputs": [],
   "source": [
    "with open(r'train_repeat_4000.tsv', 'w', newline='',encoding='utf-8') as f:\n",
    "    tsv_w = csv.writer(f, delimiter='\\t')\n",
    "    for i in range(len(train_input)):\n",
    "        tsv_w.writerow([train_input[i],train_output[i]])  "
   ]
  }
 ],
 "metadata": {
  "kernelspec": {
   "display_name": "Python 3.8.15 ('CS671d')",
   "language": "python",
   "name": "python3"
  },
  "language_info": {
   "codemirror_mode": {
    "name": "ipython",
    "version": 3
   },
   "file_extension": ".py",
   "mimetype": "text/x-python",
   "name": "python",
   "nbconvert_exporter": "python",
   "pygments_lexer": "ipython3",
   "version": "3.8.15"
  },
  "orig_nbformat": 4,
  "vscode": {
   "interpreter": {
    "hash": "6bf51136e80cc8d537998c634373721f3535c87741d7026eb4e9b38a6b970557"
   }
  }
 },
 "nbformat": 4,
 "nbformat_minor": 2
}
